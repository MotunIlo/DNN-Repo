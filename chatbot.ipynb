{
 "cells": [
  {
   "cell_type": "code",
   "execution_count": 1,
   "metadata": {},
   "outputs": [
    {
     "name": "stdout",
     "output_type": "stream",
     "text": [
      "Collecting nltk\n",
      "  Obtaining dependency information for nltk from https://files.pythonhosted.org/packages/a6/0a/0d20d2c0f16be91b9fa32a77b76c60f9baf6eba419e5ef5deca17af9c582/nltk-3.8.1-py3-none-any.whl.metadata\n",
      "  Downloading nltk-3.8.1-py3-none-any.whl.metadata (2.8 kB)\n",
      "Collecting click (from nltk)\n",
      "  Obtaining dependency information for click from https://files.pythonhosted.org/packages/00/2e/d53fa4befbf2cfa713304affc7ca780ce4fc1fd8710527771b58311a3229/click-8.1.7-py3-none-any.whl.metadata\n",
      "  Downloading click-8.1.7-py3-none-any.whl.metadata (3.0 kB)\n",
      "Requirement already satisfied: joblib in c:\\users\\user\\appdata\\local\\programs\\python\\python311\\lib\\site-packages (from nltk) (1.3.2)\n",
      "Collecting regex>=2021.8.3 (from nltk)\n",
      "  Obtaining dependency information for regex>=2021.8.3 from https://files.pythonhosted.org/packages/a8/01/18232f93672c1d530834e2e0568a80eaab1df12d67ae499b1762ab462b5c/regex-2023.12.25-cp311-cp311-win_amd64.whl.metadata\n",
      "  Downloading regex-2023.12.25-cp311-cp311-win_amd64.whl.metadata (41 kB)\n",
      "     ---------------------------------------- 0.0/42.0 kB ? eta -:--:--\n",
      "     --------- ------------------------------ 10.2/42.0 kB ? eta -:--:--\n",
      "     ------------------ ------------------- 20.5/42.0 kB 217.9 kB/s eta 0:00:01\n",
      "     --------------------------- ---------- 30.7/42.0 kB 217.9 kB/s eta 0:00:01\n",
      "     -------------------------------------- 42.0/42.0 kB 225.1 kB/s eta 0:00:00\n",
      "Collecting tqdm (from nltk)\n",
      "  Obtaining dependency information for tqdm from https://files.pythonhosted.org/packages/2a/14/e75e52d521442e2fcc9f1df3c5e456aead034203d4797867980de558ab34/tqdm-4.66.2-py3-none-any.whl.metadata\n",
      "  Downloading tqdm-4.66.2-py3-none-any.whl.metadata (57 kB)\n",
      "     ---------------------------------------- 0.0/57.6 kB ? eta -:--:--\n",
      "     --------------------- ------------------ 30.7/57.6 kB 1.3 MB/s eta 0:00:01\n",
      "     ---------------------------------------- 57.6/57.6 kB 1.0 MB/s eta 0:00:00\n",
      "Requirement already satisfied: colorama in c:\\users\\user\\appdata\\roaming\\python\\python311\\site-packages (from click->nltk) (0.4.6)\n",
      "Downloading nltk-3.8.1-py3-none-any.whl (1.5 MB)\n",
      "   ---------------------------------------- 0.0/1.5 MB ? eta -:--:--\n",
      "   -- ------------------------------------- 0.1/1.5 MB 3.3 MB/s eta 0:00:01\n",
      "   ---- ----------------------------------- 0.2/1.5 MB 1.6 MB/s eta 0:00:01\n",
      "   ------ --------------------------------- 0.2/1.5 MB 1.8 MB/s eta 0:00:01\n",
      "   ---------- ----------------------------- 0.4/1.5 MB 2.0 MB/s eta 0:00:01\n",
      "   ------------- -------------------------- 0.5/1.5 MB 2.4 MB/s eta 0:00:01\n",
      "   ----------------- ---------------------- 0.7/1.5 MB 2.4 MB/s eta 0:00:01\n",
      "   ------------------------- -------------- 1.0/1.5 MB 2.7 MB/s eta 0:00:01\n",
      "   ------------------------------ --------- 1.2/1.5 MB 3.1 MB/s eta 0:00:01\n",
      "   ------------------------------- -------- 1.2/1.5 MB 3.0 MB/s eta 0:00:01\n",
      "   ------------------------------- -------- 1.2/1.5 MB 3.0 MB/s eta 0:00:01\n",
      "   ---------------------------------------  1.5/1.5 MB 2.9 MB/s eta 0:00:01\n",
      "   ---------------------------------------  1.5/1.5 MB 2.7 MB/s eta 0:00:01\n",
      "   ---------------------------------------- 1.5/1.5 MB 2.6 MB/s eta 0:00:00\n",
      "Downloading regex-2023.12.25-cp311-cp311-win_amd64.whl (269 kB)\n",
      "   ---------------------------------------- 0.0/269.5 kB ? eta -:--:--\n",
      "   ---------------------------------------- 269.5/269.5 kB 5.5 MB/s eta 0:00:00\n",
      "Downloading click-8.1.7-py3-none-any.whl (97 kB)\n",
      "   ---------------------------------------- 0.0/97.9 kB ? eta -:--:--\n",
      "   ---------------------------------------- 97.9/97.9 kB 5.5 MB/s eta 0:00:00\n",
      "Downloading tqdm-4.66.2-py3-none-any.whl (78 kB)\n",
      "   ---------------------------------------- 0.0/78.3 kB ? eta -:--:--\n",
      "   ---------------------------------------- 78.3/78.3 kB ? eta 0:00:00\n",
      "Installing collected packages: tqdm, regex, click, nltk\n",
      "Successfully installed click-8.1.7 nltk-3.8.1 regex-2023.12.25 tqdm-4.66.2\n",
      "Note: you may need to restart the kernel to use updated packages.\n"
     ]
    },
    {
     "name": "stderr",
     "output_type": "stream",
     "text": [
      "\n",
      "[notice] A new release of pip is available: 23.2.1 -> 24.0\n",
      "[notice] To update, run: python.exe -m pip install --upgrade pip\n"
     ]
    }
   ],
   "source": [
    "pip install nltk"
   ]
  },
  {
   "cell_type": "code",
   "execution_count": 2,
   "metadata": {},
   "outputs": [
    {
     "name": "stderr",
     "output_type": "stream",
     "text": [
      "[nltk_data] Downloading package stopwords to\n",
      "[nltk_data]     C:\\Users\\USER\\AppData\\Roaming\\nltk_data...\n",
      "[nltk_data]   Unzipping corpora\\stopwords.zip.\n",
      "[nltk_data] Downloading package punkt to\n",
      "[nltk_data]     C:\\Users\\USER\\AppData\\Roaming\\nltk_data...\n",
      "[nltk_data]   Unzipping tokenizers\\punkt.zip.\n",
      "[nltk_data] Downloading package wordnet to\n",
      "[nltk_data]     C:\\Users\\USER\\AppData\\Roaming\\nltk_data...\n"
     ]
    },
    {
     "data": {
      "text/plain": [
       "True"
      ]
     },
     "execution_count": 2,
     "metadata": {},
     "output_type": "execute_result"
    }
   ],
   "source": [
    "import nltk\n",
    "import random\n",
    "from sklearn.feature_extraction.text import TfidfVectorizer\n",
    "from sklearn.metrics.pairwise import cosine_similarity\n",
    "import pandas as pd\n",
    "import warnings\n",
    "warnings.filterwarnings('ignore')\n",
    "lemmatizer = nltk.stem.WordNetLemmatizer()\n",
    "\n",
    "# Download required NLTK data\n",
    "nltk.download('stopwords')\n",
    "nltk.download('punkt')\n",
    "nltk.download('wordnet')"
   ]
  },
  {
   "cell_type": "code",
   "execution_count": 4,
   "metadata": {},
   "outputs": [
    {
     "data": {
      "text/html": [
       "<div>\n",
       "<style scoped>\n",
       "    .dataframe tbody tr th:only-of-type {\n",
       "        vertical-align: middle;\n",
       "    }\n",
       "\n",
       "    .dataframe tbody tr th {\n",
       "        vertical-align: top;\n",
       "    }\n",
       "\n",
       "    .dataframe thead th {\n",
       "        text-align: right;\n",
       "    }\n",
       "</style>\n",
       "<table border=\"1\" class=\"dataframe\">\n",
       "  <thead>\n",
       "    <tr style=\"text-align: right;\">\n",
       "      <th></th>\n",
       "      <th>0</th>\n",
       "      <th>1</th>\n",
       "    </tr>\n",
       "  </thead>\n",
       "  <tbody>\n",
       "    <tr>\n",
       "      <th>0</th>\n",
       "      <td>Customer</td>\n",
       "      <td>Hi, I'm looking to buy a new phone, and I'm i...</td>\n",
       "    </tr>\n",
       "    <tr>\n",
       "      <th>1</th>\n",
       "      <td>Sales Agent</td>\n",
       "      <td>Great, we have a wide range of Samsung phones...</td>\n",
       "    </tr>\n",
       "    <tr>\n",
       "      <th>2</th>\n",
       "      <td>Customer</td>\n",
       "      <td>Well, I want a phone with a good camera, long...</td>\n",
       "    </tr>\n",
       "    <tr>\n",
       "      <th>3</th>\n",
       "      <td>Sales Agent</td>\n",
       "      <td>Absolutely. We have a lot of great options th...</td>\n",
       "    </tr>\n",
       "    <tr>\n",
       "      <th>4</th>\n",
       "      <td>Customer</td>\n",
       "      <td>No, I haven't. Tell me more about it.</td>\n",
       "    </tr>\n",
       "  </tbody>\n",
       "</table>\n",
       "</div>"
      ],
      "text/plain": [
       "             0                                                  1\n",
       "0     Customer   Hi, I'm looking to buy a new phone, and I'm i...\n",
       "1  Sales Agent   Great, we have a wide range of Samsung phones...\n",
       "2     Customer   Well, I want a phone with a good camera, long...\n",
       "3  Sales Agent   Absolutely. We have a lot of great options th...\n",
       "4     Customer              No, I haven't. Tell me more about it."
      ]
     },
     "execution_count": 4,
     "metadata": {},
     "output_type": "execute_result"
    }
   ],
   "source": [
    "data = pd.read_csv('Samsung Dialog.txt', sep = ':', header = None)\n",
    "data.head()"
   ]
  },
  {
   "cell_type": "code",
   "execution_count": 21,
   "metadata": {},
   "outputs": [
    {
     "data": {
      "text/html": [
       "<div>\n",
       "<style scoped>\n",
       "    .dataframe tbody tr th:only-of-type {\n",
       "        vertical-align: middle;\n",
       "    }\n",
       "\n",
       "    .dataframe tbody tr th {\n",
       "        vertical-align: top;\n",
       "    }\n",
       "\n",
       "    .dataframe thead th {\n",
       "        text-align: right;\n",
       "    }\n",
       "</style>\n",
       "<table border=\"1\" class=\"dataframe\">\n",
       "  <thead>\n",
       "    <tr style=\"text-align: right;\">\n",
       "      <th></th>\n",
       "      <th>Question</th>\n",
       "      <th>Answer</th>\n",
       "    </tr>\n",
       "  </thead>\n",
       "  <tbody>\n",
       "    <tr>\n",
       "      <th>0</th>\n",
       "      <td>Hi, I'm looking to buy a new phone, and I'm i...</td>\n",
       "      <td>Great, we have a wide range of Samsung phones...</td>\n",
       "    </tr>\n",
       "    <tr>\n",
       "      <th>1</th>\n",
       "      <td>Well, I want a phone with a good camera, long...</td>\n",
       "      <td>Absolutely. We have a lot of great options th...</td>\n",
       "    </tr>\n",
       "    <tr>\n",
       "      <th>2</th>\n",
       "      <td>No, I haven't. Tell me more about it.</td>\n",
       "      <td>The Galaxy S21 Ultra has a 108-megapixel came...</td>\n",
       "    </tr>\n",
       "    <tr>\n",
       "      <th>3</th>\n",
       "      <td>That sounds great. How much does it cost?</td>\n",
       "      <td>The Galaxy S21 Ultra starts at $1,199, but we...</td>\n",
       "    </tr>\n",
       "    <tr>\n",
       "      <th>4</th>\n",
       "      <td>Okay, I'm interested. But I have a few more q...</td>\n",
       "      <td>The Galaxy S21 Ultra comes with a standard on...</td>\n",
       "    </tr>\n",
       "  </tbody>\n",
       "</table>\n",
       "</div>"
      ],
      "text/plain": [
       "                                            Question  \\\n",
       "0   Hi, I'm looking to buy a new phone, and I'm i...   \n",
       "1   Well, I want a phone with a good camera, long...   \n",
       "2              No, I haven't. Tell me more about it.   \n",
       "3          That sounds great. How much does it cost?   \n",
       "4   Okay, I'm interested. But I have a few more q...   \n",
       "\n",
       "                                              Answer  \n",
       "0   Great, we have a wide range of Samsung phones...  \n",
       "1   Absolutely. We have a lot of great options th...  \n",
       "2   The Galaxy S21 Ultra has a 108-megapixel came...  \n",
       "3   The Galaxy S21 Ultra starts at $1,199, but we...  \n",
       "4   The Galaxy S21 Ultra comes with a standard on...  "
      ]
     },
     "execution_count": 21,
     "metadata": {},
     "output_type": "execute_result"
    }
   ],
   "source": [
    "#Preprocess the data to individual customer and sales columns\n",
    "cust = data.loc[data[0] == 'Customer']\n",
    "sales = data.loc[data[0] == 'Sales Agent']\n",
    "\n",
    "df = pd.DataFrame()\n",
    "df['Question'] = cust[1].reset_index(drop = True)\n",
    "df['Answer'] = sales[1].reset_index(drop = True)\n",
    "\n",
    "df.head()"
   ]
  },
  {
   "cell_type": "code",
   "execution_count": 14,
   "metadata": {},
   "outputs": [
    {
     "data": {
      "text/plain": [
       "'ran'"
      ]
     },
     "execution_count": 14,
     "metadata": {},
     "output_type": "execute_result"
    }
   ],
   "source": [
    "lemmatizer.lemmatize('ran')"
   ]
  },
  {
   "cell_type": "code",
   "execution_count": 26,
   "metadata": {},
   "outputs": [
    {
     "data": {
      "text/html": [
       "<div>\n",
       "<style scoped>\n",
       "    .dataframe tbody tr th:only-of-type {\n",
       "        vertical-align: middle;\n",
       "    }\n",
       "\n",
       "    .dataframe tbody tr th {\n",
       "        vertical-align: top;\n",
       "    }\n",
       "\n",
       "    .dataframe thead th {\n",
       "        text-align: right;\n",
       "    }\n",
       "</style>\n",
       "<table border=\"1\" class=\"dataframe\">\n",
       "  <thead>\n",
       "    <tr style=\"text-align: right;\">\n",
       "      <th></th>\n",
       "      <th>Question</th>\n",
       "      <th>Answer</th>\n",
       "      <th>tokenized Questions</th>\n",
       "    </tr>\n",
       "  </thead>\n",
       "  <tbody>\n",
       "    <tr>\n",
       "      <th>0</th>\n",
       "      <td>Hi, I'm looking to buy a new phone, and I'm i...</td>\n",
       "      <td>Great, we have a wide range of Samsung phones...</td>\n",
       "      <td>hi i looking to buy a new phone and i interest...</td>\n",
       "    </tr>\n",
       "    <tr>\n",
       "      <th>1</th>\n",
       "      <td>Well, I want a phone with a good camera, long...</td>\n",
       "      <td>Absolutely. We have a lot of great options th...</td>\n",
       "      <td>well i want a phone with a good camera long ba...</td>\n",
       "    </tr>\n",
       "    <tr>\n",
       "      <th>2</th>\n",
       "      <td>No, I haven't. Tell me more about it.</td>\n",
       "      <td>The Galaxy S21 Ultra has a 108-megapixel came...</td>\n",
       "      <td>no i have tell me more about it</td>\n",
       "    </tr>\n",
       "    <tr>\n",
       "      <th>3</th>\n",
       "      <td>That sounds great. How much does it cost?</td>\n",
       "      <td>The Galaxy S21 Ultra starts at $1,199, but we...</td>\n",
       "      <td>that sound great how much doe it cost</td>\n",
       "    </tr>\n",
       "    <tr>\n",
       "      <th>4</th>\n",
       "      <td>Okay, I'm interested. But I have a few more q...</td>\n",
       "      <td>The Galaxy S21 Ultra comes with a standard on...</td>\n",
       "      <td>okay i interested but i have a few more questi...</td>\n",
       "    </tr>\n",
       "    <tr>\n",
       "      <th>5</th>\n",
       "      <td>That's good to know. And what about the opera...</td>\n",
       "      <td>Yes, the Galaxy S21 Ultra runs on Android 11,...</td>\n",
       "      <td>that good to know and what about the operating...</td>\n",
       "    </tr>\n",
       "    <tr>\n",
       "      <th>6</th>\n",
       "      <td>Okay, that's good. But I'm also interested in...</td>\n",
       "      <td>Absolutely. The Galaxy A52 is a great mid-ran...</td>\n",
       "      <td>okay that good but i also interested in some o...</td>\n",
       "    </tr>\n",
       "    <tr>\n",
       "      <th>7</th>\n",
       "      <td>That sounds like a good option for me. How mu...</td>\n",
       "      <td>The Galaxy A52 starts at $399, but again, we ...</td>\n",
       "      <td>that sound like a good option for me how much ...</td>\n",
       "    </tr>\n",
       "    <tr>\n",
       "      <th>8</th>\n",
       "      <td>Okay, I'll think about it. But can you also t...</td>\n",
       "      <td>Of course. The Galaxy Z Fold2 is a really uni...</td>\n",
       "      <td>okay i think about it but can you also tell me...</td>\n",
       "    </tr>\n",
       "    <tr>\n",
       "      <th>9</th>\n",
       "      <td>That sounds really cool, but it also sounds e...</td>\n",
       "      <td>The Galaxy Z Fold2 starts at $1,999, but agai...</td>\n",
       "      <td>that sound really cool but it also sound expen...</td>\n",
       "    </tr>\n",
       "    <tr>\n",
       "      <th>10</th>\n",
       "      <td>Hmm, I'm not sure. That's a lot of money for ...</td>\n",
       "      <td>I understand. The Galaxy Z Fold2 is definitel...</td>\n",
       "      <td>hmm i not sure that a lot of money for a phone</td>\n",
       "    </tr>\n",
       "    <tr>\n",
       "      <th>11</th>\n",
       "      <td>Okay, can you tell me more about the Galaxy A72?</td>\n",
       "      <td>Sure, the Galaxy A72 is another great mid-ran...</td>\n",
       "      <td>okay can you tell me more about the galaxy a72</td>\n",
       "    </tr>\n",
       "    <tr>\n",
       "      <th>12</th>\n",
       "      <td>That sounds like a great option for me. How m...</td>\n",
       "      <td>The Galaxy A72 starts at $449, but as I menti...</td>\n",
       "      <td>that sound like a great option for me how much...</td>\n",
       "    </tr>\n",
       "    <tr>\n",
       "      <th>13</th>\n",
       "      <td>Okay, I'll definitely consider it. But before...</td>\n",
       "      <td>Of course. We have a few different financing ...</td>\n",
       "      <td>okay i definitely consider it but before i mak...</td>\n",
       "    </tr>\n",
       "    <tr>\n",
       "      <th>14</th>\n",
       "      <td>That's good to know. And what if I have issue...</td>\n",
       "      <td>Yes, we offer a lot of support options for ou...</td>\n",
       "      <td>that good to know and what if i have issue wit...</td>\n",
       "    </tr>\n",
       "    <tr>\n",
       "      <th>15</th>\n",
       "      <td>Okay, that sounds great. I think I'm interest...</td>\n",
       "      <td>Great, I'm glad to hear that. To buy the phon...</td>\n",
       "      <td>okay that sound great i think i interested in ...</td>\n",
       "    </tr>\n",
       "    <tr>\n",
       "      <th>16</th>\n",
       "      <td>Okay, that sounds simple enough. Thanks for a...</td>\n",
       "      <td>You're welcome. If you have any other questio...</td>\n",
       "      <td>okay that sound simple enough thanks for all y...</td>\n",
       "    </tr>\n",
       "  </tbody>\n",
       "</table>\n",
       "</div>"
      ],
      "text/plain": [
       "                                             Question  \\\n",
       "0    Hi, I'm looking to buy a new phone, and I'm i...   \n",
       "1    Well, I want a phone with a good camera, long...   \n",
       "2               No, I haven't. Tell me more about it.   \n",
       "3           That sounds great. How much does it cost?   \n",
       "4    Okay, I'm interested. But I have a few more q...   \n",
       "5    That's good to know. And what about the opera...   \n",
       "6    Okay, that's good. But I'm also interested in...   \n",
       "7    That sounds like a good option for me. How mu...   \n",
       "8    Okay, I'll think about it. But can you also t...   \n",
       "9    That sounds really cool, but it also sounds e...   \n",
       "10   Hmm, I'm not sure. That's a lot of money for ...   \n",
       "11   Okay, can you tell me more about the Galaxy A72?   \n",
       "12   That sounds like a great option for me. How m...   \n",
       "13   Okay, I'll definitely consider it. But before...   \n",
       "14   That's good to know. And what if I have issue...   \n",
       "15   Okay, that sounds great. I think I'm interest...   \n",
       "16   Okay, that sounds simple enough. Thanks for a...   \n",
       "\n",
       "                                               Answer  \\\n",
       "0    Great, we have a wide range of Samsung phones...   \n",
       "1    Absolutely. We have a lot of great options th...   \n",
       "2    The Galaxy S21 Ultra has a 108-megapixel came...   \n",
       "3    The Galaxy S21 Ultra starts at $1,199, but we...   \n",
       "4    The Galaxy S21 Ultra comes with a standard on...   \n",
       "5    Yes, the Galaxy S21 Ultra runs on Android 11,...   \n",
       "6    Absolutely. The Galaxy A52 is a great mid-ran...   \n",
       "7    The Galaxy A52 starts at $399, but again, we ...   \n",
       "8    Of course. The Galaxy Z Fold2 is a really uni...   \n",
       "9    The Galaxy Z Fold2 starts at $1,999, but agai...   \n",
       "10   I understand. The Galaxy Z Fold2 is definitel...   \n",
       "11   Sure, the Galaxy A72 is another great mid-ran...   \n",
       "12   The Galaxy A72 starts at $449, but as I menti...   \n",
       "13   Of course. We have a few different financing ...   \n",
       "14   Yes, we offer a lot of support options for ou...   \n",
       "15   Great, I'm glad to hear that. To buy the phon...   \n",
       "16   You're welcome. If you have any other questio...   \n",
       "\n",
       "                                  tokenized Questions  \n",
       "0   hi i looking to buy a new phone and i interest...  \n",
       "1   well i want a phone with a good camera long ba...  \n",
       "2                     no i have tell me more about it  \n",
       "3               that sound great how much doe it cost  \n",
       "4   okay i interested but i have a few more questi...  \n",
       "5   that good to know and what about the operating...  \n",
       "6   okay that good but i also interested in some o...  \n",
       "7   that sound like a good option for me how much ...  \n",
       "8   okay i think about it but can you also tell me...  \n",
       "9   that sound really cool but it also sound expen...  \n",
       "10     hmm i not sure that a lot of money for a phone  \n",
       "11     okay can you tell me more about the galaxy a72  \n",
       "12  that sound like a great option for me how much...  \n",
       "13  okay i definitely consider it but before i mak...  \n",
       "14  that good to know and what if i have issue wit...  \n",
       "15  okay that sound great i think i interested in ...  \n",
       "16  okay that sound simple enough thanks for all y...  "
      ]
     },
     "execution_count": 26,
     "metadata": {},
     "output_type": "execute_result"
    }
   ],
   "source": [
    "# Define a function for text preprocessing (including lemmatization)\n",
    "def preprocess_text(text):\n",
    "    # Identifies all sentences in the data\n",
    "    sentences = nltk.sent_tokenize(text)\n",
    "    \n",
    "    # Tokenize and lemmatize each word in each sentence\n",
    "    preprocessed_sentences = []\n",
    "    for sentence in sentences:\n",
    "        tokens = [lemmatizer.lemmatize(word.lower()) for word in nltk.word_tokenize(sentence) if word.isalnum()]\n",
    "        # Turns to basic root - each word in the tokenized word found in the tokenized sentence - if they are all alphanumeric \n",
    "        # The code above does the following:\n",
    "        # Identifies every word in the sentence \n",
    "        # Turns it to a lower case \n",
    "        # Lemmatizes it if the word is alphanumeric\n",
    "\n",
    "        preprocessed_sentence = ' '.join(tokens)\n",
    "        preprocessed_sentences.append(preprocessed_sentence)\n",
    "    \n",
    "    return ' '.join(preprocessed_sentences)\n",
    "\n",
    "\n",
    "df['tokenized Questions'] = df['Question'].apply(preprocess_text)\n",
    "df"
   ]
  },
  {
   "cell_type": "code",
   "execution_count": 23,
   "metadata": {},
   "outputs": [
    {
     "data": {
      "text/plain": [
       "['hi i looking to buy a new phone and i interested in samsung phone',\n",
       " 'well i want a phone with a good camera long battery life and plenty of storage',\n",
       " 'no i have tell me more about it',\n",
       " 'that sound great how much doe it cost',\n",
       " 'okay i interested but i have a few more question what kind of warranty come with the phone',\n",
       " 'that good to know and what about the operating system doe it come with the latest version of android',\n",
       " 'okay that good but i also interested in some of the other samsung phone can you tell me more about the galaxy a52',\n",
       " 'that sound like a good option for me how much doe it cost',\n",
       " 'okay i think about it but can you also tell me about the galaxy z fold2 i heard a lot about it and i curious',\n",
       " 'that sound really cool but it also sound expensive how much doe it cost',\n",
       " 'hmm i not sure that a lot of money for a phone',\n",
       " 'okay can you tell me more about the galaxy a72',\n",
       " 'that sound like a great option for me how much doe it cost',\n",
       " 'okay i definitely consider it but before i make a decision can you tell me more about the financing option',\n",
       " 'that good to know and what if i have issue with the phone do you offer any support',\n",
       " 'okay that sound great i think i interested in the galaxy a72 how do i go about buying it',\n",
       " 'okay that sound simple enough thanks for all your help']"
      ]
     },
     "execution_count": 23,
     "metadata": {},
     "output_type": "execute_result"
    }
   ],
   "source": [
    "x = df['tokenized Questions'].to_list()\n",
    "x"
   ]
  },
  {
   "cell_type": "code",
   "execution_count": 24,
   "metadata": {},
   "outputs": [],
   "source": [
    "# Vectorize corpus\n",
    "tfidf_vectorizer = TfidfVectorizer()\n",
    "corpus = tfidf_vectorizer.fit_transform(x)\n",
    "# TDIDF is a numerical statistic used to evaluate how important a word is to a document in a collection or corpus. \n",
    "# The TfidfVectorizer calculates the Tfidf values for each word in the corpus and uses them \n",
    "# to create a matrix where each row represents a document and each column represents a word. \n",
    "# The cell values in the matrix correspond to the importance of each word in each document."
   ]
  },
  {
   "cell_type": "code",
   "execution_count": 25,
   "metadata": {},
   "outputs": [
    {
     "name": "stdout",
     "output_type": "stream",
     "text": [
      "  (0, 71)\t0.3011232459093611\n",
      "  (0, 41)\t0.2700934382194581\n",
      "  (0, 42)\t0.2460248494975018\n",
      "  (0, 5)\t0.22635938061087743\n",
      "  (0, 67)\t0.4194649271573511\n",
      "  (0, 58)\t0.34485730351794186\n",
      "  (0, 11)\t0.34485730351794186\n",
      "  (0, 84)\t0.2700934382194581\n",
      "  (0, 51)\t0.34485730351794186\n",
      "  (0, 37)\t0.34485730351794186\n"
     ]
    }
   ],
   "source": [
    "print(corpus[0])"
   ]
  },
  {
   "cell_type": "code",
   "execution_count": 15,
   "metadata": {},
   "outputs": [],
   "source": [
    "#create your question here\n",
    "user = input('Pls ask your question:')"
   ]
  },
  {
   "cell_type": "code",
   "execution_count": 16,
   "metadata": {},
   "outputs": [],
   "source": [
    "#preprocess the question\n",
    "pre_user = preprocess_text(user)"
   ]
  },
  {
   "cell_type": "code",
   "execution_count": 17,
   "metadata": {},
   "outputs": [
    {
     "name": "stdout",
     "output_type": "stream",
     "text": [
      "  (0, 86)\t0.4590379543803292\n",
      "  (0, 84)\t0.35952012066161565\n",
      "  (0, 71)\t0.40082375350187827\n",
      "  (0, 67)\t0.27917390777630213\n",
      "  (0, 37)\t0.4590379543803292\n",
      "  (0, 11)\t0.4590379543803292\n"
     ]
    }
   ],
   "source": [
    "#vectorize it\n",
    "vect_user =tfidf_vectorizer.transform([pre_user])\n",
    "print(vect_user)"
   ]
  },
  {
   "cell_type": "code",
   "execution_count": 18,
   "metadata": {},
   "outputs": [
    {
     "data": {
      "text/plain": [
       "array([[0.65151022, 0.19716938, 0.        , 0.        , 0.05576244,\n",
       "        0.08165559, 0.15148545, 0.        , 0.        , 0.        ,\n",
       "        0.06769786, 0.        , 0.        , 0.        , 0.13587621,\n",
       "        0.        , 0.        ]])"
      ]
     },
     "execution_count": 18,
     "metadata": {},
     "output_type": "execute_result"
    }
   ],
   "source": [
    "#similarity score btwn a vectorized input\n",
    "similarity_scores = cosine_similarity(vect_user, corpus)\n",
    "similarity_scores"
   ]
  },
  {
   "cell_type": "code",
   "execution_count": 19,
   "metadata": {},
   "outputs": [
    {
     "data": {
      "text/plain": [
       "0"
      ]
     },
     "execution_count": 19,
     "metadata": {},
     "output_type": "execute_result"
    }
   ],
   "source": [
    "most_similar_index = similarity_scores.argmax()\n",
    "most_similar_index"
   ]
  },
  {
   "cell_type": "code",
   "execution_count": 27,
   "metadata": {},
   "outputs": [
    {
     "data": {
      "text/plain": [
       "' Great, we have a wide range of Samsung phones to choose from. What features are you looking for in a phone?'"
      ]
     },
     "execution_count": 27,
     "metadata": {},
     "output_type": "execute_result"
    }
   ],
   "source": [
    "#locate index\n",
    "df['Answer'].iloc[most_similar_index]"
   ]
  },
  {
   "cell_type": "code",
   "execution_count": 29,
   "metadata": {},
   "outputs": [
    {
     "data": {
      "text/plain": [
       "' Absolutely. The Galaxy A52 is a great mid-range phone that has a lot of the same features as the Galaxy S21 Ultra, but at a more affordable price point. It has a 64-megapixel camera, a 4,500mAh battery, and up to 256GB of storage. It also runs on the latest version of Android and has a really nice, large display.'"
      ]
     },
     "execution_count": 29,
     "metadata": {},
     "output_type": "execute_result"
    }
   ],
   "source": [
    "#write a function\n",
    "def collector():\n",
    "    user = input('Pls ask your question:')\n",
    "    pre_user = preprocess_text(user)\n",
    "    vect_user = tfidf_vectorizer.transform([pre_user])\n",
    "    similarity_scores = cosine_similarity(vect_user, corpus)\n",
    "    most_similar_index = similarity_scores.argmax()\n",
    "\n",
    "     \n",
    "    return(df['Answer'].iloc[most_similar_index])\n",
    "\n",
    "collector()"
   ]
  },
  {
   "cell_type": "code",
   "execution_count": 30,
   "metadata": {},
   "outputs": [
    {
     "name": "stdout",
     "output_type": "stream",
     "text": [
      "\n",
      "Chatbot: Hello There... How can I be useful to you today!\n",
      "\n",
      "Chatbot:  Great, we have a wide range of Samsung phones to choose from. What features are you looking for in a phone?\n",
      "\n",
      "Chatbot: Bye... come back soon!\n"
     ]
    }
   ],
   "source": [
    "def get_response(user_input):\n",
    "    user_input_processed = preprocess_text(user_input) # ....................... Preprocess the user's input using the preprocess_text function\n",
    "\n",
    "    user_input_vector = tfidf_vectorizer.transform([user_input_processed])# .... Vectorize the preprocessed user input using the TF-IDF vectorizer\n",
    "\n",
    "    similarity_scores = cosine_similarity(user_input_vector, corpus) # .. Calculate the score of similarity between the user input vector and the corpus (df) vector\n",
    "\n",
    "    most_similar_index = similarity_scores.argmax() # ..... Find the index of the most similar question in the corpus (df) based on cosine similarity\n",
    "\n",
    "    return df['Answer'].iloc[most_similar_index] # ... Retrieve the corresponding answer from the df DataFrame and return it as the chatbot's response\n",
    "\n",
    "# create greeting list \n",
    "greetings = [\"Hey There.... I am a creation of Ehiz Danny Agba Coder.... How can I help\",\n",
    "            \"Hi Human.... How can I help\",\n",
    "            'Twale baba nla, wetin dey happen nah',\n",
    "            'How far Alaye, wetin happen'\n",
    "            \"Good Day .... How can I help\", \n",
    "            \"Hello There... How can I be useful to you today\",\n",
    "            \"Hi GomyCode Student.... How can I be of use\"]\n",
    "\n",
    "exits = ['thanks bye', 'bye', 'quit', 'exit', 'bye bye', 'close']\n",
    "farewell = ['Thanks....see you soon', 'Babye, See you soon', 'Bye... See you later', 'Bye... come back soon']\n",
    "\n",
    "random_farewell = random.choice(farewell) # ---------------- Randomly select a farewell message from the list\n",
    "random_greetings = random.choice(greetings) # -------- Randomly select greeting message from the list\n",
    "\n",
    "# Test your chatbot\n",
    "while True:\n",
    "    user_input = input(\"You: \")\n",
    "    if user_input.lower() in exits:\n",
    "        print(f\"\\nChatbot: {random_farewell}!\")\n",
    "        break\n",
    "    if user_input.lower() in ['hi', 'hello', 'hey', 'hi there']:\n",
    "        print(f\"\\nChatbot: {random_greetings}!\")\n",
    "    else:   \n",
    "        response = get_response(user_input)\n",
    "        print(f\"\\nChatbot: {response}\")"
   ]
  }
 ],
 "metadata": {
  "kernelspec": {
   "display_name": "Python 3",
   "language": "python",
   "name": "python3"
  },
  "language_info": {
   "codemirror_mode": {
    "name": "ipython",
    "version": 3
   },
   "file_extension": ".py",
   "mimetype": "text/x-python",
   "name": "python",
   "nbconvert_exporter": "python",
   "pygments_lexer": "ipython3",
   "version": "3.11.7"
  }
 },
 "nbformat": 4,
 "nbformat_minor": 2
}
